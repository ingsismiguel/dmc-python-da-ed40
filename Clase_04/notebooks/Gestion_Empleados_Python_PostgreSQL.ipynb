{
 "cells": [
  {
   "cell_type": "markdown",
   "id": "8e257903",
   "metadata": {},
   "source": [
    "\n",
    "## **Etapa 1: Instalación de librerías necesarias**\n",
    "Ejecuta el siguiente código para instalar las librerías requeridas.\n"
   ]
  },
  {
   "cell_type": "code",
   "execution_count": 3,
   "id": "0c0ecc97",
   "metadata": {},
   "outputs": [
    {
     "name": "stdout",
     "output_type": "stream",
     "text": [
      "Collecting numpy\n",
      "  Using cached numpy-2.2.0-cp311-cp311-manylinux_2_17_x86_64.manylinux2014_x86_64.whl.metadata (62 kB)\n",
      "Collecting psycopg2-binary\n",
      "  Downloading psycopg2_binary-2.9.10-cp311-cp311-manylinux_2_17_x86_64.manylinux2014_x86_64.whl.metadata (4.9 kB)\n",
      "Collecting faker\n",
      "  Downloading Faker-33.1.0-py3-none-any.whl.metadata (15 kB)\n",
      "Requirement already satisfied: python-dateutil>=2.4 in /opt/conda/lib/python3.11/site-packages (from faker) (2.8.2)\n",
      "Requirement already satisfied: typing-extensions in /opt/conda/lib/python3.11/site-packages (from faker) (4.8.0)\n",
      "Requirement already satisfied: six>=1.5 in /opt/conda/lib/python3.11/site-packages (from python-dateutil>=2.4->faker) (1.16.0)\n",
      "Downloading numpy-2.2.0-cp311-cp311-manylinux_2_17_x86_64.manylinux2014_x86_64.whl (16.4 MB)\n",
      "\u001b[2K   \u001b[90m━━━━━━━━━━━━━━━━━━━━━━━━━━━━━━━━━━━━━━━━\u001b[0m \u001b[32m16.4/16.4 MB\u001b[0m \u001b[31m19.5 MB/s\u001b[0m eta \u001b[36m0:00:00\u001b[0m00:01\u001b[0m00:01\u001b[0m\n",
      "\u001b[?25hDownloading psycopg2_binary-2.9.10-cp311-cp311-manylinux_2_17_x86_64.manylinux2014_x86_64.whl (3.0 MB)\n",
      "\u001b[2K   \u001b[90m━━━━━━━━━━━━━━━━━━━━━━━━━━━━━━━━━━━━━━━━\u001b[0m \u001b[32m3.0/3.0 MB\u001b[0m \u001b[31m22.6 MB/s\u001b[0m eta \u001b[36m0:00:00\u001b[0ma \u001b[36m0:00:01\u001b[0m\n",
      "\u001b[?25hDownloading Faker-33.1.0-py3-none-any.whl (1.9 MB)\n",
      "\u001b[2K   \u001b[90m━━━━━━━━━━━━━━━━━━━━━━━━━━━━━━━━━━━━━━━━\u001b[0m \u001b[32m1.9/1.9 MB\u001b[0m \u001b[31m23.7 MB/s\u001b[0m eta \u001b[36m0:00:00\u001b[0ma \u001b[36m0:00:01\u001b[0m\n",
      "\u001b[?25hInstalling collected packages: psycopg2-binary, numpy, faker\n",
      "Successfully installed faker-33.1.0 numpy-2.2.0 psycopg2-binary-2.9.10\n"
     ]
    }
   ],
   "source": [
    "# Instalar las librerías necesarias\n",
    "!pip install numpy psycopg2-binary faker\n"
   ]
  },
  {
   "cell_type": "markdown",
   "id": "c6f266b1",
   "metadata": {},
   "source": [
    "\n",
    "## **Etapa 2: Conexión de Python con PostgreSQL**\n",
    "Vamos a conectarnos a PostgreSQL. Asegúrate de que tienes una base de datos creada con el nombre `empresa`.\n",
    "\n",
    "### Configuración:\n",
    "- Usuario: `tu_usuario`\n",
    "- Contraseña: `tu_contraseña`\n",
    "- Host: `localhost`\n",
    "- Puerto: `5432`\n",
    "\n",
    "Ejecuta el siguiente código para probar la conexión.\n"
   ]
  },
  {
   "cell_type": "code",
   "execution_count": 1,
   "id": "0dd6af85",
   "metadata": {},
   "outputs": [
    {
     "name": "stdout",
     "output_type": "stream",
     "text": [
      "¡Conexión exitosa a PostgreSQL!\n"
     ]
    }
   ],
   "source": [
    "import psycopg2\n",
    "\n",
    "def conectar():\n",
    "    try:\n",
    "        conn = psycopg2.connect(\n",
    "            dbname=\"empresa\",\n",
    "            user=\"admin\",\n",
    "            password=\"admin\",\n",
    "            host=\"192.168.76.1\",\n",
    "            port=\"5432\"\n",
    "        )\n",
    "        print(\"¡Conexión exitosa a PostgreSQL!\")\n",
    "        return conn\n",
    "    except Exception as e:\n",
    "        print(\"Error al conectar:\", e)\n",
    "        return None\n",
    "\n",
    "# Probar conexión\n",
    "conexion = conectar()\n",
    "if conexion:\n",
    "    conexion.close()\n"
   ]
  },
  {
   "cell_type": "markdown",
   "id": "e2a8d5e5",
   "metadata": {},
   "source": [
    "\n",
    "## **Etapa 3: Creación de datos con Faker**\n",
    "Generaremos datos de prueba para empleados con la librería `faker`.\n"
   ]
  },
  {
   "cell_type": "code",
   "execution_count": 9,
   "id": "c3f09be4",
   "metadata": {},
   "outputs": [
    {
     "name": "stdout",
     "output_type": "stream",
     "text": [
      "{'nombre': 'Paul', 'apellido': 'Gonzales', 'salario': 6138, 'departamento': 'Facilities manager'}\n",
      "{'nombre': 'Justin', 'apellido': 'Esparza', 'salario': 66675, 'departamento': 'Logistics and distribution manager'}\n",
      "{'nombre': 'Jacqueline', 'apellido': 'Ayala', 'salario': 87062, 'departamento': 'Recruitment consultant'}\n",
      "{'nombre': 'Christopher', 'apellido': 'Alvarez', 'salario': 51808, 'departamento': 'Conservation officer, nature'}\n",
      "{'nombre': 'Michelle', 'apellido': 'Oneill', 'salario': 3312, 'departamento': 'Armed forces training and education officer'}\n",
      "{'nombre': 'Chad', 'apellido': 'Morris', 'salario': 21120, 'departamento': 'Technical sales engineer'}\n",
      "{'nombre': 'Nicole', 'apellido': 'Martinez', 'salario': 22239, 'departamento': 'Administrator'}\n",
      "{'nombre': 'David', 'apellido': 'Franklin', 'salario': 74514, 'departamento': 'Government social research officer'}\n",
      "{'nombre': 'Gary', 'apellido': 'Miller', 'salario': 95336, 'departamento': 'Surveyor, hydrographic'}\n",
      "{'nombre': 'Jonathan', 'apellido': 'Jones', 'salario': 29433, 'departamento': 'Teacher, English as a foreign language'}\n"
     ]
    }
   ],
   "source": [
    "\n",
    "from faker import Faker\n",
    "\n",
    "def generar_empleados(cantidad):\n",
    "    fake = Faker()\n",
    "    empleados = []\n",
    "    for _ in range(cantidad):\n",
    "        empleados.append({\n",
    "            \"nombre\": fake.first_name(),\n",
    "            \"apellido\": fake.last_name(),\n",
    "            \"salario\": round(fake.random_number(digits=5), 2),\n",
    "            \"departamento\": fake.job()\n",
    "        })\n",
    "    return empleados\n",
    "\n",
    "# Generar y mostrar 10 empleados de prueba\n",
    "empleados = generar_empleados(10)\n",
    "for emp in empleados:\n",
    "    print(emp)\n"
   ]
  },
  {
   "cell_type": "code",
   "execution_count": 3,
   "id": "3d66150a",
   "metadata": {},
   "outputs": [
    {
     "name": "stdout",
     "output_type": "stream",
     "text": [
      "¡Conexión exitosa a PostgreSQL!\n",
      "¡Empleados insertados correctamente!\n"
     ]
    }
   ],
   "source": [
    "\n",
    "def insertar_empleados(empleados):\n",
    "    conn = conectar()\n",
    "    if not conn:\n",
    "        return\n",
    "    cursor = conn.cursor()\n",
    "    #cursor.execute(\"TRUNCATE TABLE empleados\")\n",
    "    for emp in empleados:\n",
    "        cursor.execute(\"\"\"\n",
    "            INSERT INTO empleados (nombre, apellido, salario, departamento)\n",
    "            VALUES (%s, %s, %s, %s)\n",
    "        \"\"\", (emp[\"nombre\"], emp[\"apellido\"], emp[\"salario\"], emp[\"departamento\"]))\n",
    "    conn.commit()\n",
    "    cursor.close()\n",
    "    conn.close()\n",
    "    print(\"¡Empleados insertados correctamente!\")\n",
    "\n",
    "# Insertar empleados de prueba en la base de datos\n",
    "empleados = generar_empleados(10)\n",
    "insertar_empleados(empleados)\n"
   ]
  },
  {
   "cell_type": "code",
   "execution_count": 4,
   "id": "13913990",
   "metadata": {},
   "outputs": [
    {
     "name": "stdout",
     "output_type": "stream",
     "text": [
      "¡Conexión exitosa a PostgreSQL!\n",
      "(1012, 'Paige', 'Rich', Decimal('79918.00'), 'Sports administrator')\n",
      "(1013, 'Lauren', 'Stevens', Decimal('37371.00'), 'Equities trader')\n",
      "(1014, 'Wesley', 'Jacobs', Decimal('83777.00'), 'Engineer, building services')\n",
      "(1015, 'Leah', 'Joseph', Decimal('31381.00'), 'Warehouse manager')\n",
      "(1016, 'Roberto', 'Mora', Decimal('18124.00'), 'Sales executive')\n",
      "(1017, 'Stacey', 'Harrison', Decimal('67276.00'), 'Clinical psychologist')\n",
      "(1018, 'Christopher', 'Hernandez', Decimal('46711.00'), 'Television/film/video producer')\n",
      "(1019, 'Linda', 'Schmidt', Decimal('18448.00'), 'Advertising account executive')\n",
      "(1020, 'Derek', 'Gonzalez', Decimal('45534.00'), 'Producer, radio')\n",
      "(1021, 'Linda', 'Francis', Decimal('98590.00'), 'Chief of Staff')\n",
      "(1022, 'Arthur', 'Baker', Decimal('88826.00'), 'Industrial/product designer')\n",
      "(1023, 'Carrie', 'Jackson', Decimal('76712.00'), 'Horticultural therapist')\n",
      "(1024, 'Lindsay', 'Chambers', Decimal('87422.00'), 'Doctor, general practice')\n",
      "(1025, 'Christopher', 'Ford', Decimal('49976.00'), 'Hydrographic surveyor')\n",
      "(1026, 'Justin', 'Stokes', Decimal('61384.00'), 'Production assistant, television')\n",
      "(1027, 'Amy', 'Harris', Decimal('36971.00'), 'Wellsite geologist')\n",
      "(1028, 'Scott', 'Hubbard', Decimal('90261.00'), 'Paediatric nurse')\n",
      "(1029, 'Stacy', 'Rivera', Decimal('35895.00'), 'Data scientist')\n",
      "(1030, 'Nancy', 'Tyler', Decimal('56490.00'), 'Engineer, electronics')\n"
     ]
    }
   ],
   "source": [
    "\n",
    "def leer_empleados():\n",
    "    conn = conectar()\n",
    "    if not conn:\n",
    "        return\n",
    "    cursor = conn.cursor()\n",
    "    cursor.execute(\"SELECT * FROM empleados;\")\n",
    "    empleados = cursor.fetchall()\n",
    "    for emp in empleados:\n",
    "        print(emp)\n",
    "    cursor.close()\n",
    "    conn.close()\n",
    "\n",
    "# Leer empleados de la base de datos\n",
    "leer_empleados()\n"
   ]
  },
  {
   "cell_type": "code",
   "execution_count": 8,
   "id": "949c551f",
   "metadata": {},
   "outputs": [
    {
     "name": "stdin",
     "output_type": "stream",
     "text": [
      "indica el id_empleado:  1011\n",
      "define el salario:  50000\n"
     ]
    },
    {
     "name": "stdout",
     "output_type": "stream",
     "text": [
      "¡Conexión exitosa a PostgreSQL!\n",
      "¡Salario del empleado 1011 actualizado a 50000.0!\n"
     ]
    }
   ],
   "source": [
    "def actualizar_salario(id_empleado, nuevo_salario):\n",
    "    conn = conectar()\n",
    "    if not conn:\n",
    "        return\n",
    "    cursor = conn.cursor()\n",
    "    cursor.execute(\"\"\"\n",
    "        UPDATE empleados\n",
    "        SET salario = %s\n",
    "        WHERE id = %s\n",
    "    \"\"\", (nuevo_salario, id_empleado))\n",
    "    conn.commit()\n",
    "    cursor.close()\n",
    "    conn.close()\n",
    "    print(f\"¡Salario del empleado {id_empleado} actualizado a {nuevo_salario}!\")\n",
    "\n",
    "# Actualizar el salario de un empleado\n",
    "try:\n",
    "    ide_empleado = int(input(\"indica el id_empleado: \"))\n",
    "    mnt_salario  = float(input(\"define el salario: \"))\n",
    "except ValueError as e:\n",
    "    print(f\"Se presento el error: {e}\")\n",
    "actualizar_salario(ide_empleado, mnt_salario)\n"
   ]
  },
  {
   "cell_type": "code",
   "execution_count": 7,
   "id": "153d82b3",
   "metadata": {},
   "outputs": [
    {
     "name": "stdin",
     "output_type": "stream",
     "text": [
      "indica el id_empleado a eliminar:  1011\n"
     ]
    },
    {
     "name": "stdout",
     "output_type": "stream",
     "text": [
      "¡Conexión exitosa a PostgreSQL!\n",
      "¡Empleado 1011 eliminado!\n"
     ]
    }
   ],
   "source": [
    "\n",
    "def eliminar_empleado(id_empleado):\n",
    "    conn = conectar()\n",
    "    if not conn:\n",
    "        return\n",
    "    cursor = conn.cursor()\n",
    "    cursor.execute(\"DELETE FROM empleados WHERE id = %s;\", (id_empleado,))\n",
    "    conn.commit()\n",
    "    cursor.close()\n",
    "    conn.close()\n",
    "    print(f\"¡Empleado {id_empleado} eliminado!\")\n",
    "\n",
    "try:\n",
    "    ide_empleado = int(input(\"indica el id_empleado a eliminar: \"))\n",
    "except ValueError as e:\n",
    "    print(f\"Se presento el error: {e}\")\n",
    "\n",
    "# Eliminar un empleado de la base de datos\n",
    "eliminar_empleado(ide_empleado)\n"
   ]
  },
  {
   "cell_type": "markdown",
   "id": "4e135466",
   "metadata": {},
   "source": [
    "\n",
    "## **Etapa 5: Análisis de datos con NumPy**\n",
    "Analizaremos los salarios de los empleados utilizando `NumPy`.\n"
   ]
  },
  {
   "cell_type": "code",
   "execution_count": 8,
   "id": "3a014474",
   "metadata": {},
   "outputs": [
    {
     "name": "stdout",
     "output_type": "stream",
     "text": [
      "¡Conexión exitosa a PostgreSQL!\n",
      "Estadísticas de salarios:\n",
      "Promedio: 58477.21\n",
      "Mediana: 56490.00\n",
      "Desviación estándar: 24774.05\n"
     ]
    }
   ],
   "source": [
    "\n",
    "import numpy as np\n",
    "\n",
    "def analizar_salarios():\n",
    "    conn = conectar()\n",
    "    if not conn:\n",
    "        return\n",
    "    cursor = conn.cursor()\n",
    "    cursor.execute(\"SELECT salario FROM empleados;\")\n",
    "    salarios = [row[0] for row in cursor.fetchall()]\n",
    "    cursor.close()\n",
    "    conn.close()\n",
    "\n",
    "    if salarios:\n",
    "        salarios_np = np.array(salarios)\n",
    "        print(\"Estadísticas de salarios:\")\n",
    "        print(f\"Promedio: {np.mean(salarios_np):.2f}\")\n",
    "        print(f\"Mediana: {np.median(salarios_np):.2f}\")\n",
    "        print(f\"Desviación estándar: {np.std(salarios_np):.2f}\")\n",
    "    else:\n",
    "        print(\"No hay datos de salarios para analizar.\")\n",
    "\n",
    "# Analizar los salarios de los empleados\n",
    "analizar_salarios()\n"
   ]
  }
 ],
 "metadata": {
  "kernelspec": {
   "display_name": "Python 3 (ipykernel)",
   "language": "python",
   "name": "python3"
  },
  "language_info": {
   "codemirror_mode": {
    "name": "ipython",
    "version": 3
   },
   "file_extension": ".py",
   "mimetype": "text/x-python",
   "name": "python",
   "nbconvert_exporter": "python",
   "pygments_lexer": "ipython3",
   "version": "3.11.6"
  }
 },
 "nbformat": 4,
 "nbformat_minor": 5
}
