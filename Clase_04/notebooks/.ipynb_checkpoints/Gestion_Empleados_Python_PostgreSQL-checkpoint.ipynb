{
 "cells": [
  {
   "cell_type": "markdown",
   "id": "6a22a4f5",
   "metadata": {},
   "source": [
    "\n",
    "# **Ejercicio Práctico: Gestión de Empleados con Python**\n",
    "\n",
    "En este ejercicio aprenderás a:\n",
    "\n",
    "1. Instalar librerías necesarias.\n",
    "2. Conectar Python con una base de datos PostgreSQL.\n",
    "3. Generar datos de prueba utilizando `faker`.\n",
    "4. Realizar operaciones CRUD en PostgreSQL.\n",
    "5. Analizar datos con `NumPy`.\n",
    "\n",
    "---\n"
   ]
  },
  {
   "cell_type": "markdown",
   "id": "8e257903",
   "metadata": {},
   "source": [
    "\n",
    "## **Etapa 1: Instalación de librerías necesarias**\n",
    "Ejecuta el siguiente código para instalar las librerías requeridas.\n"
   ]
  },
  {
   "cell_type": "code",
   "execution_count": null,
   "id": "0c0ecc97",
   "metadata": {},
   "outputs": [],
   "source": [
    "\n",
    "# Instalar las librerías necesarias\n",
    "!pip install numpy psycopg2 faker\n"
   ]
  },
  {
   "cell_type": "markdown",
   "id": "c6f266b1",
   "metadata": {},
   "source": [
    "\n",
    "## **Etapa 2: Conexión de Python con PostgreSQL**\n",
    "Vamos a conectarnos a PostgreSQL. Asegúrate de que tienes una base de datos creada con el nombre `empresa`.\n",
    "\n",
    "### Configuración:\n",
    "- Usuario: `tu_usuario`\n",
    "- Contraseña: `tu_contraseña`\n",
    "- Host: `localhost`\n",
    "- Puerto: `5432`\n",
    "\n",
    "Ejecuta el siguiente código para probar la conexión.\n"
   ]
  },
  {
   "cell_type": "code",
   "execution_count": null,
   "id": "0dd6af85",
   "metadata": {},
   "outputs": [],
   "source": [
    "\n",
    "import psycopg2\n",
    "\n",
    "def conectar():\n",
    "    try:\n",
    "        conn = psycopg2.connect(\n",
    "            dbname=\"empresa\",\n",
    "            user=\"tu_usuario\",\n",
    "            password=\"tu_contraseña\",\n",
    "            host=\"localhost\",\n",
    "            port=\"5432\"\n",
    "        )\n",
    "        print(\"¡Conexión exitosa a PostgreSQL!\")\n",
    "        return conn\n",
    "    except Exception as e:\n",
    "        print(\"Error al conectar:\", e)\n",
    "        return None\n",
    "\n",
    "# Probar conexión\n",
    "conexion = conectar()\n",
    "if conexion:\n",
    "    conexion.close()\n"
   ]
  },
  {
   "cell_type": "markdown",
   "id": "e2a8d5e5",
   "metadata": {},
   "source": [
    "\n",
    "## **Etapa 3: Creación de datos con Faker**\n",
    "Generaremos datos de prueba para empleados con la librería `faker`.\n"
   ]
  },
  {
   "cell_type": "code",
   "execution_count": null,
   "id": "c3f09be4",
   "metadata": {},
   "outputs": [],
   "source": [
    "\n",
    "from faker import Faker\n",
    "\n",
    "def generar_empleados(cantidad):\n",
    "    fake = Faker()\n",
    "    empleados = []\n",
    "    for _ in range(cantidad):\n",
    "        empleados.append({\n",
    "            \"nombre\": fake.first_name(),\n",
    "            \"apellido\": fake.last_name(),\n",
    "            \"salario\": round(fake.random_number(digits=5), 2),\n",
    "            \"departamento\": fake.job()\n",
    "        })\n",
    "    return empleados\n",
    "\n",
    "# Generar y mostrar 10 empleados de prueba\n",
    "empleados = generar_empleados(10)\n",
    "for emp in empleados:\n",
    "    print(emp)\n"
   ]
  },
  {
   "cell_type": "markdown",
   "id": "bb83cfff",
   "metadata": {},
   "source": [
    "\n",
    "## **Etapa 4: Realizar operaciones CRUD**\n",
    "Ahora implementaremos las operaciones CRUD para manejar los datos en PostgreSQL.\n"
   ]
  },
  {
   "cell_type": "code",
   "execution_count": null,
   "id": "3d66150a",
   "metadata": {},
   "outputs": [],
   "source": [
    "\n",
    "def insertar_empleados(empleados):\n",
    "    conn = conectar()\n",
    "    if not conn:\n",
    "        return\n",
    "    cursor = conn.cursor()\n",
    "    for emp in empleados:\n",
    "        cursor.execute(\"\"\"\n",
    "            INSERT INTO empleados (nombre, apellido, salario, departamento)\n",
    "            VALUES (%s, %s, %s, %s)\n",
    "        \"\"\", (emp[\"nombre\"], emp[\"apellido\"], emp[\"salario\"], emp[\"departamento\"]))\n",
    "    conn.commit()\n",
    "    cursor.close()\n",
    "    conn.close()\n",
    "    print(\"¡Empleados insertados correctamente!\")\n",
    "\n",
    "# Insertar empleados de prueba en la base de datos\n",
    "insertar_empleados(empleados)\n"
   ]
  },
  {
   "cell_type": "code",
   "execution_count": null,
   "id": "13913990",
   "metadata": {},
   "outputs": [],
   "source": [
    "\n",
    "def leer_empleados():\n",
    "    conn = conectar()\n",
    "    if not conn:\n",
    "        return\n",
    "    cursor = conn.cursor()\n",
    "    cursor.execute(\"SELECT * FROM empleados;\")\n",
    "    empleados = cursor.fetchall()\n",
    "    for emp in empleados:\n",
    "        print(emp)\n",
    "    cursor.close()\n",
    "    conn.close()\n",
    "\n",
    "# Leer empleados de la base de datos\n",
    "leer_empleados()\n"
   ]
  },
  {
   "cell_type": "code",
   "execution_count": null,
   "id": "949c551f",
   "metadata": {},
   "outputs": [],
   "source": [
    "\n",
    "def actualizar_salario(id_empleado, nuevo_salario):\n",
    "    conn = conectar()\n",
    "    if not conn:\n",
    "        return\n",
    "    cursor = conn.cursor()\n",
    "    cursor.execute(\"\"\"\n",
    "        UPDATE empleados\n",
    "        SET salario = %s\n",
    "        WHERE id = %s\n",
    "    \"\"\", (nuevo_salario, id_empleado))\n",
    "    conn.commit()\n",
    "    cursor.close()\n",
    "    conn.close()\n",
    "    print(f\"¡Salario del empleado {id_empleado} actualizado a {nuevo_salario}!\")\n",
    "\n",
    "# Actualizar el salario de un empleado\n",
    "actualizar_salario(1, 50000)\n"
   ]
  },
  {
   "cell_type": "code",
   "execution_count": null,
   "id": "153d82b3",
   "metadata": {},
   "outputs": [],
   "source": [
    "\n",
    "def eliminar_empleado(id_empleado):\n",
    "    conn = conectar()\n",
    "    if not conn:\n",
    "        return\n",
    "    cursor = conn.cursor()\n",
    "    cursor.execute(\"DELETE FROM empleados WHERE id = %s;\", (id_empleado,))\n",
    "    conn.commit()\n",
    "    cursor.close()\n",
    "    conn.close()\n",
    "    print(f\"¡Empleado {id_empleado} eliminado!\")\n",
    "\n",
    "# Eliminar un empleado de la base de datos\n",
    "eliminar_empleado(1)\n"
   ]
  },
  {
   "cell_type": "markdown",
   "id": "4e135466",
   "metadata": {},
   "source": [
    "\n",
    "## **Etapa 5: Análisis de datos con NumPy**\n",
    "Analizaremos los salarios de los empleados utilizando `NumPy`.\n"
   ]
  },
  {
   "cell_type": "code",
   "execution_count": null,
   "id": "3a014474",
   "metadata": {},
   "outputs": [],
   "source": [
    "\n",
    "import numpy as np\n",
    "\n",
    "def analizar_salarios():\n",
    "    conn = conectar()\n",
    "    if not conn:\n",
    "        return\n",
    "    cursor = conn.cursor()\n",
    "    cursor.execute(\"SELECT salario FROM empleados;\")\n",
    "    salarios = [row[0] for row in cursor.fetchall()]\n",
    "    cursor.close()\n",
    "    conn.close()\n",
    "\n",
    "    if salarios:\n",
    "        salarios_np = np.array(salarios)\n",
    "        print(\"Estadísticas de salarios:\")\n",
    "        print(f\"Promedio: {np.mean(salarios_np):.2f}\")\n",
    "        print(f\"Mediana: {np.median(salarios_np):.2f}\")\n",
    "        print(f\"Desviación estándar: {np.std(salarios_np):.2f}\")\n",
    "    else:\n",
    "        print(\"No hay datos de salarios para analizar.\")\n",
    "\n",
    "# Analizar los salarios de los empleados\n",
    "analizar_salarios()\n"
   ]
  },
  {
   "cell_type": "markdown",
   "id": "06d43ecf",
   "metadata": {},
   "source": [
    "\n",
    "---\n",
    "¡Felicidades! Ahora tienes un sistema funcional para gestionar empleados con Python y PostgreSQL, además de realizar análisis básicos con NumPy.\n"
   ]
  }
 ],
 "metadata": {},
 "nbformat": 4,
 "nbformat_minor": 5
}
